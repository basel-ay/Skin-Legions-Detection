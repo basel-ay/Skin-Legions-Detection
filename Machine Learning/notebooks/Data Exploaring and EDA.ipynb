{
 "cells": [
  {
   "cell_type": "markdown",
   "metadata": {},
   "source": [
    "Skin cancer is the most common human malignancy, is primarily diagnosed visually, beginning with an initial clinical screening and followed potentially by dermoscopic analysis, a biopsy and histopathological examination. Automated classification of skin lesions using images is a challenging task owing to the fine-grained variability in the appearance of skin lesions.\n",
    "\n",
    "This the HAM10000 (\"Human Against Machine with 10000 training images\") dataset.It consists of 10015 dermatoscopicimages which are released as a training set for academic machine learning purposes and are publiclyavailable through the ISIC archive. This benchmark dataset can be used for machine learning and for comparisons with human experts.\n",
    "\n",
    "It has 7 different classes of skin cancer which are listed below :\n",
    "1. Melanocytic nevi\n",
    "2. Melanoma\n",
    "3. Benign keratosis-like lesions\n",
    "4. Basal cell carcinoma\n",
    "5. Actinic keratoses\n",
    "6. Vascular lesions\n",
    "7. Dermatofibroma\n",
    "\n",
    "In this kernel I will try to detect 7 different classes of skin cancer using Convolution Neural Network with keras tensorflow in backend and then analyse the result to see how the model can be useful in practical scenario.\n",
    "We will move step by step process to classify 7 classes of cancer."
   ]
  },
  {
   "cell_type": "code",
   "execution_count": 1,
   "metadata": {},
   "outputs": [],
   "source": [
    "import matplotlib.pyplot as plt\n",
    "import numpy as np\n",
    "import pandas as pd\n",
    "import os\n",
    "from glob import glob\n",
    "import seaborn as sns\n",
    "import random\n",
    "%matplotlib inline"
   ]
  },
  {
   "cell_type": "code",
   "execution_count": 2,
   "metadata": {},
   "outputs": [],
   "source": [
    "base_skin_dir = r\"D:\\dataset\"\n",
    "skin_df = pd.read_csv(os.path.join(base_skin_dir, 'HAM10000_metadata.csv')) "
   ]
  },
  {
   "cell_type": "code",
   "execution_count": 3,
   "metadata": {},
   "outputs": [
    {
     "data": {
      "text/html": [
       "<div>\n",
       "<style scoped>\n",
       "    .dataframe tbody tr th:only-of-type {\n",
       "        vertical-align: middle;\n",
       "    }\n",
       "\n",
       "    .dataframe tbody tr th {\n",
       "        vertical-align: top;\n",
       "    }\n",
       "\n",
       "    .dataframe thead th {\n",
       "        text-align: right;\n",
       "    }\n",
       "</style>\n",
       "<table border=\"1\" class=\"dataframe\">\n",
       "  <thead>\n",
       "    <tr style=\"text-align: right;\">\n",
       "      <th></th>\n",
       "      <th>lesion_id</th>\n",
       "      <th>image_id</th>\n",
       "      <th>dx</th>\n",
       "      <th>dx_type</th>\n",
       "      <th>age</th>\n",
       "      <th>sex</th>\n",
       "      <th>localization</th>\n",
       "    </tr>\n",
       "  </thead>\n",
       "  <tbody>\n",
       "    <tr>\n",
       "      <th>0</th>\n",
       "      <td>HAM_0000118</td>\n",
       "      <td>ISIC_0027419</td>\n",
       "      <td>bkl</td>\n",
       "      <td>histo</td>\n",
       "      <td>80.0</td>\n",
       "      <td>male</td>\n",
       "      <td>scalp</td>\n",
       "    </tr>\n",
       "    <tr>\n",
       "      <th>1</th>\n",
       "      <td>HAM_0000118</td>\n",
       "      <td>ISIC_0025030</td>\n",
       "      <td>bkl</td>\n",
       "      <td>histo</td>\n",
       "      <td>80.0</td>\n",
       "      <td>male</td>\n",
       "      <td>scalp</td>\n",
       "    </tr>\n",
       "    <tr>\n",
       "      <th>2</th>\n",
       "      <td>HAM_0002730</td>\n",
       "      <td>ISIC_0026769</td>\n",
       "      <td>bkl</td>\n",
       "      <td>histo</td>\n",
       "      <td>80.0</td>\n",
       "      <td>male</td>\n",
       "      <td>scalp</td>\n",
       "    </tr>\n",
       "    <tr>\n",
       "      <th>3</th>\n",
       "      <td>HAM_0002730</td>\n",
       "      <td>ISIC_0025661</td>\n",
       "      <td>bkl</td>\n",
       "      <td>histo</td>\n",
       "      <td>80.0</td>\n",
       "      <td>male</td>\n",
       "      <td>scalp</td>\n",
       "    </tr>\n",
       "    <tr>\n",
       "      <th>4</th>\n",
       "      <td>HAM_0001466</td>\n",
       "      <td>ISIC_0031633</td>\n",
       "      <td>bkl</td>\n",
       "      <td>histo</td>\n",
       "      <td>75.0</td>\n",
       "      <td>male</td>\n",
       "      <td>ear</td>\n",
       "    </tr>\n",
       "  </tbody>\n",
       "</table>\n",
       "</div>"
      ],
      "text/plain": [
       "     lesion_id      image_id   dx dx_type   age   sex localization\n",
       "0  HAM_0000118  ISIC_0027419  bkl   histo  80.0  male        scalp\n",
       "1  HAM_0000118  ISIC_0025030  bkl   histo  80.0  male        scalp\n",
       "2  HAM_0002730  ISIC_0026769  bkl   histo  80.0  male        scalp\n",
       "3  HAM_0002730  ISIC_0025661  bkl   histo  80.0  male        scalp\n",
       "4  HAM_0001466  ISIC_0031633  bkl   histo  75.0  male          ear"
      ]
     },
     "execution_count": 3,
     "metadata": {},
     "output_type": "execute_result"
    }
   ],
   "source": [
    "skin_df.head()"
   ]
  },
  {
   "cell_type": "code",
   "execution_count": 4,
   "metadata": {},
   "outputs": [
    {
     "name": "stdout",
     "output_type": "stream",
     "text": [
      "shape of our dataset is (10015, 7)\n"
     ]
    }
   ],
   "source": [
    "print(f'shape of our dataset is {skin_df.shape}')"
   ]
  },
  {
   "cell_type": "code",
   "execution_count": 5,
   "metadata": {},
   "outputs": [],
   "source": [
    "image_id_path_dict = {os.path.splitext(os.path.basename(x))[0]: x\n",
    "                     for x in glob(os.path.join(base_skin_dir, '*', '*.jpg'))}"
   ]
  },
  {
   "cell_type": "code",
   "execution_count": 6,
   "metadata": {},
   "outputs": [],
   "source": [
    "lesion_type_dict = {\n",
    "    'nv': 'Melanocytic_nevi',\n",
    "    'mel': 'melanoma',\n",
    "    'bkl': 'Benign_keratosis-like_lesions',\n",
    "    'bcc': 'Basal_cell_carcinoma',\n",
    "    'akiec': 'Actinic_keratoses',\n",
    "    'vasc': 'Vascular_lesions',\n",
    "    'df': 'Dermatofibroma'\n",
    "}\n",
    "\n",
    "lesion_danger = {\n",
    "    'nv': 0, # 0 for benign\n",
    "    'mel': 1, # 1 for malignant\n",
    "    'bkl': 0, # 0 for benign\n",
    "    'bcc': 1, # 1 for malignant\n",
    "    'akiec': 1, # 1 for malignant\n",
    "    'vasc': 0,  # 0 for benign\n",
    "    'df': 0   # 0 for benign\n",
    "}"
   ]
  },
  {
   "cell_type": "code",
   "execution_count": 7,
   "metadata": {},
   "outputs": [],
   "source": [
    "skin_df[\"path\"] = skin_df[\"image_id\"].map(image_id_path_dict.get) # map image_id to the path of that image\n",
    "skin_df[\"cell_type\"] = skin_df[\"dx\"].map(lesion_type_dict.get) # map dx to type of lesion"
   ]
  },
  {
   "cell_type": "code",
   "execution_count": 8,
   "metadata": {},
   "outputs": [
    {
     "data": {
      "text/html": [
       "<div>\n",
       "<style scoped>\n",
       "    .dataframe tbody tr th:only-of-type {\n",
       "        vertical-align: middle;\n",
       "    }\n",
       "\n",
       "    .dataframe tbody tr th {\n",
       "        vertical-align: top;\n",
       "    }\n",
       "\n",
       "    .dataframe thead th {\n",
       "        text-align: right;\n",
       "    }\n",
       "</style>\n",
       "<table border=\"1\" class=\"dataframe\">\n",
       "  <thead>\n",
       "    <tr style=\"text-align: right;\">\n",
       "      <th></th>\n",
       "      <th>lesion_id</th>\n",
       "      <th>image_id</th>\n",
       "      <th>dx</th>\n",
       "      <th>dx_type</th>\n",
       "      <th>age</th>\n",
       "      <th>sex</th>\n",
       "      <th>localization</th>\n",
       "      <th>path</th>\n",
       "      <th>cell_type</th>\n",
       "    </tr>\n",
       "  </thead>\n",
       "  <tbody>\n",
       "    <tr>\n",
       "      <th>0</th>\n",
       "      <td>HAM_0000118</td>\n",
       "      <td>ISIC_0027419</td>\n",
       "      <td>bkl</td>\n",
       "      <td>histo</td>\n",
       "      <td>80.0</td>\n",
       "      <td>male</td>\n",
       "      <td>scalp</td>\n",
       "      <td>D:\\dataset\\orig\\ISIC_0027419.jpg</td>\n",
       "      <td>Benign_keratosis-like_lesions</td>\n",
       "    </tr>\n",
       "    <tr>\n",
       "      <th>1</th>\n",
       "      <td>HAM_0000118</td>\n",
       "      <td>ISIC_0025030</td>\n",
       "      <td>bkl</td>\n",
       "      <td>histo</td>\n",
       "      <td>80.0</td>\n",
       "      <td>male</td>\n",
       "      <td>scalp</td>\n",
       "      <td>D:\\dataset\\orig\\ISIC_0025030.jpg</td>\n",
       "      <td>Benign_keratosis-like_lesions</td>\n",
       "    </tr>\n",
       "    <tr>\n",
       "      <th>2</th>\n",
       "      <td>HAM_0002730</td>\n",
       "      <td>ISIC_0026769</td>\n",
       "      <td>bkl</td>\n",
       "      <td>histo</td>\n",
       "      <td>80.0</td>\n",
       "      <td>male</td>\n",
       "      <td>scalp</td>\n",
       "      <td>D:\\dataset\\orig\\ISIC_0026769.jpg</td>\n",
       "      <td>Benign_keratosis-like_lesions</td>\n",
       "    </tr>\n",
       "    <tr>\n",
       "      <th>3</th>\n",
       "      <td>HAM_0002730</td>\n",
       "      <td>ISIC_0025661</td>\n",
       "      <td>bkl</td>\n",
       "      <td>histo</td>\n",
       "      <td>80.0</td>\n",
       "      <td>male</td>\n",
       "      <td>scalp</td>\n",
       "      <td>D:\\dataset\\orig\\ISIC_0025661.jpg</td>\n",
       "      <td>Benign_keratosis-like_lesions</td>\n",
       "    </tr>\n",
       "    <tr>\n",
       "      <th>4</th>\n",
       "      <td>HAM_0001466</td>\n",
       "      <td>ISIC_0031633</td>\n",
       "      <td>bkl</td>\n",
       "      <td>histo</td>\n",
       "      <td>75.0</td>\n",
       "      <td>male</td>\n",
       "      <td>ear</td>\n",
       "      <td>D:\\dataset\\orig\\ISIC_0031633.jpg</td>\n",
       "      <td>Benign_keratosis-like_lesions</td>\n",
       "    </tr>\n",
       "  </tbody>\n",
       "</table>\n",
       "</div>"
      ],
      "text/plain": [
       "     lesion_id      image_id   dx dx_type   age   sex localization  \\\n",
       "0  HAM_0000118  ISIC_0027419  bkl   histo  80.0  male        scalp   \n",
       "1  HAM_0000118  ISIC_0025030  bkl   histo  80.0  male        scalp   \n",
       "2  HAM_0002730  ISIC_0026769  bkl   histo  80.0  male        scalp   \n",
       "3  HAM_0002730  ISIC_0025661  bkl   histo  80.0  male        scalp   \n",
       "4  HAM_0001466  ISIC_0031633  bkl   histo  75.0  male          ear   \n",
       "\n",
       "                               path                      cell_type  \n",
       "0  D:\\dataset\\orig\\ISIC_0027419.jpg  Benign_keratosis-like_lesions  \n",
       "1  D:\\dataset\\orig\\ISIC_0025030.jpg  Benign_keratosis-like_lesions  \n",
       "2  D:\\dataset\\orig\\ISIC_0026769.jpg  Benign_keratosis-like_lesions  \n",
       "3  D:\\dataset\\orig\\ISIC_0025661.jpg  Benign_keratosis-like_lesions  \n",
       "4  D:\\dataset\\orig\\ISIC_0031633.jpg  Benign_keratosis-like_lesions  "
      ]
     },
     "execution_count": 8,
     "metadata": {},
     "output_type": "execute_result"
    }
   ],
   "source": [
    "skin_df.head()"
   ]
  },
  {
   "cell_type": "code",
   "execution_count": 9,
   "metadata": {},
   "outputs": [],
   "source": [
    "skin_df[\"Malignant\"] = skin_df[\"dx\"].map(lesion_danger.get)"
   ]
  },
  {
   "cell_type": "code",
   "execution_count": 10,
   "metadata": {},
   "outputs": [
    {
     "data": {
      "text/html": [
       "<div>\n",
       "<style scoped>\n",
       "    .dataframe tbody tr th:only-of-type {\n",
       "        vertical-align: middle;\n",
       "    }\n",
       "\n",
       "    .dataframe tbody tr th {\n",
       "        vertical-align: top;\n",
       "    }\n",
       "\n",
       "    .dataframe thead th {\n",
       "        text-align: right;\n",
       "    }\n",
       "</style>\n",
       "<table border=\"1\" class=\"dataframe\">\n",
       "  <thead>\n",
       "    <tr style=\"text-align: right;\">\n",
       "      <th></th>\n",
       "      <th>lesion_id</th>\n",
       "      <th>image_id</th>\n",
       "      <th>dx</th>\n",
       "      <th>dx_type</th>\n",
       "      <th>age</th>\n",
       "      <th>sex</th>\n",
       "      <th>localization</th>\n",
       "      <th>path</th>\n",
       "      <th>cell_type</th>\n",
       "      <th>Malignant</th>\n",
       "    </tr>\n",
       "  </thead>\n",
       "  <tbody>\n",
       "    <tr>\n",
       "      <th>0</th>\n",
       "      <td>HAM_0000118</td>\n",
       "      <td>ISIC_0027419</td>\n",
       "      <td>bkl</td>\n",
       "      <td>histo</td>\n",
       "      <td>80.0</td>\n",
       "      <td>male</td>\n",
       "      <td>scalp</td>\n",
       "      <td>D:\\dataset\\orig\\ISIC_0027419.jpg</td>\n",
       "      <td>Benign_keratosis-like_lesions</td>\n",
       "      <td>0</td>\n",
       "    </tr>\n",
       "    <tr>\n",
       "      <th>1</th>\n",
       "      <td>HAM_0000118</td>\n",
       "      <td>ISIC_0025030</td>\n",
       "      <td>bkl</td>\n",
       "      <td>histo</td>\n",
       "      <td>80.0</td>\n",
       "      <td>male</td>\n",
       "      <td>scalp</td>\n",
       "      <td>D:\\dataset\\orig\\ISIC_0025030.jpg</td>\n",
       "      <td>Benign_keratosis-like_lesions</td>\n",
       "      <td>0</td>\n",
       "    </tr>\n",
       "    <tr>\n",
       "      <th>2</th>\n",
       "      <td>HAM_0002730</td>\n",
       "      <td>ISIC_0026769</td>\n",
       "      <td>bkl</td>\n",
       "      <td>histo</td>\n",
       "      <td>80.0</td>\n",
       "      <td>male</td>\n",
       "      <td>scalp</td>\n",
       "      <td>D:\\dataset\\orig\\ISIC_0026769.jpg</td>\n",
       "      <td>Benign_keratosis-like_lesions</td>\n",
       "      <td>0</td>\n",
       "    </tr>\n",
       "    <tr>\n",
       "      <th>3</th>\n",
       "      <td>HAM_0002730</td>\n",
       "      <td>ISIC_0025661</td>\n",
       "      <td>bkl</td>\n",
       "      <td>histo</td>\n",
       "      <td>80.0</td>\n",
       "      <td>male</td>\n",
       "      <td>scalp</td>\n",
       "      <td>D:\\dataset\\orig\\ISIC_0025661.jpg</td>\n",
       "      <td>Benign_keratosis-like_lesions</td>\n",
       "      <td>0</td>\n",
       "    </tr>\n",
       "    <tr>\n",
       "      <th>4</th>\n",
       "      <td>HAM_0001466</td>\n",
       "      <td>ISIC_0031633</td>\n",
       "      <td>bkl</td>\n",
       "      <td>histo</td>\n",
       "      <td>75.0</td>\n",
       "      <td>male</td>\n",
       "      <td>ear</td>\n",
       "      <td>D:\\dataset\\orig\\ISIC_0031633.jpg</td>\n",
       "      <td>Benign_keratosis-like_lesions</td>\n",
       "      <td>0</td>\n",
       "    </tr>\n",
       "  </tbody>\n",
       "</table>\n",
       "</div>"
      ],
      "text/plain": [
       "     lesion_id      image_id   dx dx_type   age   sex localization  \\\n",
       "0  HAM_0000118  ISIC_0027419  bkl   histo  80.0  male        scalp   \n",
       "1  HAM_0000118  ISIC_0025030  bkl   histo  80.0  male        scalp   \n",
       "2  HAM_0002730  ISIC_0026769  bkl   histo  80.0  male        scalp   \n",
       "3  HAM_0002730  ISIC_0025661  bkl   histo  80.0  male        scalp   \n",
       "4  HAM_0001466  ISIC_0031633  bkl   histo  75.0  male          ear   \n",
       "\n",
       "                               path                      cell_type  Malignant  \n",
       "0  D:\\dataset\\orig\\ISIC_0027419.jpg  Benign_keratosis-like_lesions          0  \n",
       "1  D:\\dataset\\orig\\ISIC_0025030.jpg  Benign_keratosis-like_lesions          0  \n",
       "2  D:\\dataset\\orig\\ISIC_0026769.jpg  Benign_keratosis-like_lesions          0  \n",
       "3  D:\\dataset\\orig\\ISIC_0025661.jpg  Benign_keratosis-like_lesions          0  \n",
       "4  D:\\dataset\\orig\\ISIC_0031633.jpg  Benign_keratosis-like_lesions          0  "
      ]
     },
     "execution_count": 10,
     "metadata": {},
     "output_type": "execute_result"
    }
   ],
   "source": [
    "skin_df.head()"
   ]
  },
  {
   "cell_type": "code",
   "execution_count": 11,
   "metadata": {},
   "outputs": [],
   "source": [
    "skin_df[\"cell_type_idx\"] = pd.Categorical(skin_df[\"cell_type\"]).codes # give each cell type a category id"
   ]
  },
  {
   "cell_type": "code",
   "execution_count": 12,
   "metadata": {},
   "outputs": [
    {
     "data": {
      "text/html": [
       "<div>\n",
       "<style scoped>\n",
       "    .dataframe tbody tr th:only-of-type {\n",
       "        vertical-align: middle;\n",
       "    }\n",
       "\n",
       "    .dataframe tbody tr th {\n",
       "        vertical-align: top;\n",
       "    }\n",
       "\n",
       "    .dataframe thead th {\n",
       "        text-align: right;\n",
       "    }\n",
       "</style>\n",
       "<table border=\"1\" class=\"dataframe\">\n",
       "  <thead>\n",
       "    <tr style=\"text-align: right;\">\n",
       "      <th></th>\n",
       "      <th>lesion_id</th>\n",
       "      <th>image_id</th>\n",
       "      <th>dx</th>\n",
       "      <th>dx_type</th>\n",
       "      <th>age</th>\n",
       "      <th>sex</th>\n",
       "      <th>localization</th>\n",
       "      <th>path</th>\n",
       "      <th>cell_type</th>\n",
       "      <th>Malignant</th>\n",
       "      <th>cell_type_idx</th>\n",
       "    </tr>\n",
       "  </thead>\n",
       "  <tbody>\n",
       "    <tr>\n",
       "      <th>9847</th>\n",
       "      <td>HAM_0002307</td>\n",
       "      <td>ISIC_0032154</td>\n",
       "      <td>akiec</td>\n",
       "      <td>histo</td>\n",
       "      <td>75.0</td>\n",
       "      <td>male</td>\n",
       "      <td>chest</td>\n",
       "      <td>D:\\dataset\\orig\\ISIC_0032154.jpg</td>\n",
       "      <td>Actinic_keratoses</td>\n",
       "      <td>1</td>\n",
       "      <td>0</td>\n",
       "    </tr>\n",
       "    <tr>\n",
       "      <th>3995</th>\n",
       "      <td>HAM_0003071</td>\n",
       "      <td>ISIC_0026000</td>\n",
       "      <td>nv</td>\n",
       "      <td>follow_up</td>\n",
       "      <td>80.0</td>\n",
       "      <td>male</td>\n",
       "      <td>abdomen</td>\n",
       "      <td>D:\\dataset\\orig\\ISIC_0026000.jpg</td>\n",
       "      <td>Melanocytic_nevi</td>\n",
       "      <td>0</td>\n",
       "      <td>4</td>\n",
       "    </tr>\n",
       "    <tr>\n",
       "      <th>2253</th>\n",
       "      <td>HAM_0005909</td>\n",
       "      <td>ISIC_0026045</td>\n",
       "      <td>mel</td>\n",
       "      <td>histo</td>\n",
       "      <td>65.0</td>\n",
       "      <td>male</td>\n",
       "      <td>upper extremity</td>\n",
       "      <td>D:\\dataset\\orig\\ISIC_0026045.jpg</td>\n",
       "      <td>melanoma</td>\n",
       "      <td>1</td>\n",
       "      <td>6</td>\n",
       "    </tr>\n",
       "    <tr>\n",
       "      <th>901</th>\n",
       "      <td>HAM_0006009</td>\n",
       "      <td>ISIC_0027279</td>\n",
       "      <td>bkl</td>\n",
       "      <td>consensus</td>\n",
       "      <td>65.0</td>\n",
       "      <td>male</td>\n",
       "      <td>face</td>\n",
       "      <td>D:\\dataset\\orig\\ISIC_0027279.jpg</td>\n",
       "      <td>Benign_keratosis-like_lesions</td>\n",
       "      <td>0</td>\n",
       "      <td>2</td>\n",
       "    </tr>\n",
       "    <tr>\n",
       "      <th>4890</th>\n",
       "      <td>HAM_0003831</td>\n",
       "      <td>ISIC_0026724</td>\n",
       "      <td>nv</td>\n",
       "      <td>follow_up</td>\n",
       "      <td>40.0</td>\n",
       "      <td>male</td>\n",
       "      <td>abdomen</td>\n",
       "      <td>D:\\dataset\\orig\\ISIC_0026724.jpg</td>\n",
       "      <td>Melanocytic_nevi</td>\n",
       "      <td>0</td>\n",
       "      <td>4</td>\n",
       "    </tr>\n",
       "  </tbody>\n",
       "</table>\n",
       "</div>"
      ],
      "text/plain": [
       "        lesion_id      image_id     dx    dx_type   age   sex  \\\n",
       "9847  HAM_0002307  ISIC_0032154  akiec      histo  75.0  male   \n",
       "3995  HAM_0003071  ISIC_0026000     nv  follow_up  80.0  male   \n",
       "2253  HAM_0005909  ISIC_0026045    mel      histo  65.0  male   \n",
       "901   HAM_0006009  ISIC_0027279    bkl  consensus  65.0  male   \n",
       "4890  HAM_0003831  ISIC_0026724     nv  follow_up  40.0  male   \n",
       "\n",
       "         localization                              path  \\\n",
       "9847            chest  D:\\dataset\\orig\\ISIC_0032154.jpg   \n",
       "3995          abdomen  D:\\dataset\\orig\\ISIC_0026000.jpg   \n",
       "2253  upper extremity  D:\\dataset\\orig\\ISIC_0026045.jpg   \n",
       "901              face  D:\\dataset\\orig\\ISIC_0027279.jpg   \n",
       "4890          abdomen  D:\\dataset\\orig\\ISIC_0026724.jpg   \n",
       "\n",
       "                          cell_type  Malignant  cell_type_idx  \n",
       "9847              Actinic_keratoses          1              0  \n",
       "3995               Melanocytic_nevi          0              4  \n",
       "2253                       melanoma          1              6  \n",
       "901   Benign_keratosis-like_lesions          0              2  \n",
       "4890               Melanocytic_nevi          0              4  "
      ]
     },
     "execution_count": 12,
     "metadata": {},
     "output_type": "execute_result"
    }
   ],
   "source": [
    "skin_df.sample(5)"
   ]
  },
  {
   "cell_type": "code",
   "execution_count": 13,
   "metadata": {},
   "outputs": [],
   "source": [
    "# create visualization for target variable distribution\n",
    "def barplot(df, xlabel, ylabel, title,p):\n",
    "    plt.figure(figsize = (7,7))\n",
    "    ax = sns.countplot(x = xlabel, data = df, palette =p )\n",
    "    plt.title(title, fontsize = 16)\n",
    "    plt.xlabel(xlabel, fontsize = 16)\n",
    "    plt.ylabel(ylabel, fontsize = 16)\n",
    "    total = len(df.Malignant)\n",
    "    for p in ax.patches:\n",
    "        percentage = '{:.1f}%'.format(100 * p.get_height()/total)\n",
    "        x = p.get_x() + p.get_width() / 2 - 0.05\n",
    "        y = p.get_y() + p.get_height() \n",
    "        ax.annotate(percentage, (x, y), size = 16)\n",
    "    plt.show()"
   ]
  },
  {
   "cell_type": "code",
   "execution_count": 14,
   "metadata": {},
   "outputs": [
    {
     "name": "stdout",
     "output_type": "stream",
     "text": [
      "0    8061\n",
      "1    1954\n",
      "Name: Malignant, dtype: int64\n"
     ]
    },
    {
     "data": {
      "image/png": "[encoded data removed]",
      "text/plain": [
       "<Figure size 504x504 with 1 Axes>"
      ]
     },
     "metadata": {
      "needs_background": "light"
     },
     "output_type": "display_data"
    }
   ],
   "source": [
    "print(skin_df.Malignant.value_counts())\n",
    "barplot(skin_df, 'Malignant', 'count', 'Distribution of Target Variable',\"Set1\")"
   ]
  },
  {
   "cell_type": "markdown",
   "metadata": {},
   "source": [
    "In this step we check for Missing values and datatype of each field"
   ]
  },
  {
   "cell_type": "code",
   "execution_count": 15,
   "metadata": {},
   "outputs": [
    {
     "data": {
      "text/plain": [
       "lesion_id         0\n",
       "image_id          0\n",
       "dx                0\n",
       "dx_type           0\n",
       "age              57\n",
       "sex               0\n",
       "localization      0\n",
       "path              0\n",
       "cell_type         0\n",
       "Malignant         0\n",
       "cell_type_idx     0\n",
       "dtype: int64"
      ]
     },
     "execution_count": 15,
     "metadata": {},
     "output_type": "execute_result"
    }
   ],
   "source": [
    "skin_df.isnull().sum()"
   ]
  },
  {
   "cell_type": "code",
   "execution_count": 16,
   "metadata": {},
   "outputs": [
    {
     "data": {
      "image/png": "[encoded data removed]",
      "text/plain": [
       "<Figure size 1080x504 with 1 Axes>"
      ]
     },
     "metadata": {
      "needs_background": "light"
     },
     "output_type": "display_data"
    }
   ],
   "source": [
    "plt.figure(figsize = (15,7))\n",
    "sns.countplot(x='age', data=skin_df)\n",
    "plt.show()"
   ]
  },
  {
   "cell_type": "code",
   "execution_count": 17,
   "metadata": {},
   "outputs": [],
   "source": [
    "skin_df['age'].fillna(skin_df['age'].median(),inplace=True)"
   ]
  },
  {
   "cell_type": "markdown",
   "metadata": {},
   "source": [
    "Now, lets check the presence of null values again"
   ]
  },
  {
   "cell_type": "code",
   "execution_count": 18,
   "metadata": {},
   "outputs": [
    {
     "data": {
      "text/plain": [
       "lesion_id        0\n",
       "image_id         0\n",
       "dx               0\n",
       "dx_type          0\n",
       "age              0\n",
       "sex              0\n",
       "localization     0\n",
       "path             0\n",
       "cell_type        0\n",
       "Malignant        0\n",
       "cell_type_idx    0\n",
       "dtype: int64"
      ]
     },
     "execution_count": 18,
     "metadata": {},
     "output_type": "execute_result"
    }
   ],
   "source": [
    "skin_df.isnull().sum()"
   ]
  },
  {
   "cell_type": "code",
   "execution_count": 19,
   "metadata": {},
   "outputs": [
    {
     "name": "stdout",
     "output_type": "stream",
     "text": [
      "lesion_id         object\n",
      "image_id          object\n",
      "dx                object\n",
      "dx_type           object\n",
      "age              float64\n",
      "sex               object\n",
      "localization      object\n",
      "path              object\n",
      "cell_type         object\n",
      "Malignant          int64\n",
      "cell_type_idx       int8\n",
      "dtype: object\n"
     ]
    }
   ],
   "source": [
    "print(skin_df.dtypes)"
   ]
  },
  {
   "cell_type": "code",
   "execution_count": 20,
   "metadata": {},
   "outputs": [
    {
     "data": {
      "text/plain": [
       "array(['male', 'female', 'unknown'], dtype=object)"
      ]
     },
     "execution_count": 20,
     "metadata": {},
     "output_type": "execute_result"
    }
   ],
   "source": [
    "skin_df['sex'].unique()"
   ]
  },
  {
   "cell_type": "code",
   "execution_count": 21,
   "metadata": {},
   "outputs": [
    {
     "name": "stdout",
     "output_type": "stream",
     "text": [
      "male       5406\n",
      "female     4552\n",
      "unknown      57\n",
      "Name: sex, dtype: int64\n"
     ]
    },
    {
     "data": {
      "image/png": "[encoded data removed]",
      "text/plain": [
       "<Figure size 432x288 with 1 Axes>"
      ]
     },
     "metadata": {
      "needs_background": "light"
     },
     "output_type": "display_data"
    }
   ],
   "source": [
    "print(skin_df['sex'].value_counts())\n",
    "sns.countplot(x='sex', data=skin_df)\n",
    "plt.show()"
   ]
  },
  {
   "cell_type": "code",
   "execution_count": 22,
   "metadata": {},
   "outputs": [],
   "source": [
    "skin_df.loc[skin_df.sex == \"unknown\", \"sex\"] = \"male\""
   ]
  },
  {
   "cell_type": "code",
   "execution_count": 23,
   "metadata": {},
   "outputs": [
    {
     "data": {
      "text/plain": [
       "array(['male', 'female'], dtype=object)"
      ]
     },
     "execution_count": 23,
     "metadata": {},
     "output_type": "execute_result"
    }
   ],
   "source": [
    "skin_df['sex'].unique()"
   ]
  },
  {
   "cell_type": "markdown",
   "metadata": {},
   "source": [
    "#### Diagnosis Distribution"
   ]
  },
  {
   "cell_type": "code",
   "execution_count": 24,
   "metadata": {},
   "outputs": [
    {
     "data": {
      "image/png": "[encoded data removed]",
      "text/plain": [
       "<Figure size 1080x720 with 1 Axes>"
      ]
     },
     "metadata": {
      "needs_background": "light"
     },
     "output_type": "display_data"
    }
   ],
   "source": [
    "def barplot(df, xlabel, ylabel, title,p):\n",
    "    plt.figure(figsize = (15,10))\n",
    "    ax = sns.countplot(x = xlabel, data = df, palette =p )\n",
    "    plt.title(title, fontsize = 16)\n",
    "    plt.xlabel(xlabel, fontsize = 16)\n",
    "    plt.ylabel(ylabel, fontsize = 16)\n",
    "    total = len(df)\n",
    "    for p in ax.patches:\n",
    "        percentage = '{:.1f}%'.format(100 * p.get_height()/total)\n",
    "        x = p.get_x() + p.get_width() / 3\n",
    "        y = p.get_y() + p.get_height() \n",
    "        ax.annotate(percentage, (x, y), size = 16)\n",
    "    plt.show()\n",
    "    \n",
    "barplot(skin_df, 'cell_type', 'count', 'Distribution of Diagnosis Variable',\"Set1\")"
   ]
  },
  {
   "cell_type": "markdown",
   "metadata": {},
   "source": [
    "##### Observations\n",
    "Its seems from the above plot that in this dataset cell type Melanecytic nevi has very large number of instances in comparison to other cell types"
   ]
  },
  {
   "cell_type": "markdown",
   "metadata": {},
   "source": [
    "#### Gender Distribution"
   ]
  },
  {
   "cell_type": "code",
   "execution_count": 25,
   "metadata": {},
   "outputs": [
    {
     "data": {
      "image/png": "[encoded data removed]",
      "text/plain": [
       "<Figure size 576x504 with 1 Axes>"
      ]
     },
     "metadata": {
      "needs_background": "light"
     },
     "output_type": "display_data"
    }
   ],
   "source": [
    "def barplot(df, xlabel, ylabel, title,p):\n",
    "    plt.figure(figsize = (8,7))\n",
    "    ax = sns.countplot(x = xlabel, data = df, palette =p )\n",
    "    plt.title(title, fontsize = 16)\n",
    "    plt.xlabel(xlabel, fontsize = 16)\n",
    "    plt.ylabel(ylabel, fontsize = 16)\n",
    "    total = len(df)\n",
    "    for p in ax.patches:\n",
    "        percentage = '{:.1f}%'.format(100 * p.get_height()/total)\n",
    "        x = p.get_x() + p.get_width() / 3\n",
    "        y = p.get_y() + p.get_height()  /0.99\n",
    "        ax.annotate(percentage, (x, y), size = 20)\n",
    "    plt.show()\n",
    "    \n",
    "barplot(skin_df, 'sex', 'count', 'Distribution of Sex Variable',\"viridis_r\")"
   ]
  },
  {
   "cell_type": "code",
   "execution_count": 26,
   "metadata": {},
   "outputs": [],
   "source": [
    "# display difference in gender distribution of melanoma vs. non-melanoma patients\n",
    "def twoplot(data1, data2, xlabel, ylabel, title1, title2 ):\n",
    "    f, (ax1, ax2) = plt.subplots(1, 2, figsize = (16, 6))\n",
    "    a = sns.countplot(x=xlabel, data=data1, ax=ax1 , palette = 'Set1')\n",
    "    b = sns.countplot(x=xlabel, data=data2, ax=ax2 , palette = 'Set1')\n",
    "    ax1.set_title(title1, fontsize=16)\n",
    "    ax2.set_title(title2, fontsize=16)\n",
    "    ax1.set_xlabel(xlabel, size=16)\n",
    "    ax1.set_ylabel(ylabel, size=16)\n",
    "    ax2.set_xlabel(xlabel, size=16)\n",
    "    ax2.set_ylabel(ylabel, size=16)\n",
    "#     for p in a.patches:\n",
    "#      a.annotate(format(p.get_height(), ','), \n",
    "#            (p.get_x() + p.get_width() / 2., \n",
    "#             p.get_height()), ha = 'center', va = 'center', \n",
    "#            xytext = (0, 4), textcoords = 'offset points')\n",
    "    \n",
    "    for p in a.patches:\n",
    "     a.annotate('{:.1f}%'.format(100 * p.get_height()/len(data1)), \n",
    "           (p.get_x() + p.get_width() / 2., \n",
    "            p.get_height()), ha = 'center', va = 'center', \n",
    "           xytext = (0, 4), textcoords = 'offset points')   \n",
    "    \n",
    "    for p in b.patches:\n",
    "     b.annotate('{:.1f}%'.format(100 * p.get_height()/len(data2)),  \n",
    "           (p.get_x() + p.get_width() / 2., \n",
    "            p.get_height()), ha = 'center', va = 'center', \n",
    "           xytext = (0, 4), textcoords = 'offset points')"
   ]
  },
  {
   "cell_type": "code",
   "execution_count": 27,
   "metadata": {},
   "outputs": [
    {
     "data": {
      "image/png": "[encoded data removed]",
      "text/plain": [
       "<Figure size 1152x432 with 2 Axes>"
      ]
     },
     "metadata": {
      "needs_background": "light"
     },
     "output_type": "display_data"
    }
   ],
   "source": [
    "twoplot(skin_df[skin_df.Malignant == 0], skin_df[skin_df.Malignant == 1], 'sex', 'count',\n",
    "        \"Gender Distribution of Non-Malignant Patients\", \"Gender Distribution of Malignant Patients\")"
   ]
  },
  {
   "cell_type": "code",
   "execution_count": 28,
   "metadata": {},
   "outputs": [
    {
     "data": {
      "text/html": [
       "<style  type=\"text/css\" >\n",
       "    #T_0bad3441_ea7b_11ec_8e35_f430b936d49frow0_col2 {\n",
       "            background-color:  #fff2ec;\n",
       "            color:  #000000;\n",
       "        }    #T_0bad3441_ea7b_11ec_8e35_f430b936d49frow1_col2 {\n",
       "            background-color:  #ffede5;\n",
       "            color:  #000000;\n",
       "        }    #T_0bad3441_ea7b_11ec_8e35_f430b936d49frow2_col2 {\n",
       "            background-color:  #ffeee7;\n",
       "            color:  #000000;\n",
       "        }    #T_0bad3441_ea7b_11ec_8e35_f430b936d49frow3_col2 {\n",
       "            background-color:  #fee8de;\n",
       "            color:  #000000;\n",
       "        }    #T_0bad3441_ea7b_11ec_8e35_f430b936d49frow4_col2 {\n",
       "            background-color:  #fee1d4;\n",
       "            color:  #000000;\n",
       "        }    #T_0bad3441_ea7b_11ec_8e35_f430b936d49frow5_col2 {\n",
       "            background-color:  #fdd3c1;\n",
       "            color:  #000000;\n",
       "        }    #T_0bad3441_ea7b_11ec_8e35_f430b936d49frow6_col2 {\n",
       "            background-color:  #fff5f0;\n",
       "            color:  #000000;\n",
       "        }    #T_0bad3441_ea7b_11ec_8e35_f430b936d49frow7_col2 {\n",
       "            background-color:  #fff5f0;\n",
       "            color:  #000000;\n",
       "        }    #T_0bad3441_ea7b_11ec_8e35_f430b936d49frow8_col2 {\n",
       "            background-color:  #880811;\n",
       "            color:  #f1f1f1;\n",
       "        }    #T_0bad3441_ea7b_11ec_8e35_f430b936d49frow9_col2 {\n",
       "            background-color:  #67000d;\n",
       "            color:  #f1f1f1;\n",
       "        }    #T_0bad3441_ea7b_11ec_8e35_f430b936d49frow10_col2 {\n",
       "            background-color:  #fff4ef;\n",
       "            color:  #000000;\n",
       "        }    #T_0bad3441_ea7b_11ec_8e35_f430b936d49frow11_col2 {\n",
       "            background-color:  #fff4ef;\n",
       "            color:  #000000;\n",
       "        }    #T_0bad3441_ea7b_11ec_8e35_f430b936d49frow12_col2 {\n",
       "            background-color:  #fee3d7;\n",
       "            color:  #000000;\n",
       "        }    #T_0bad3441_ea7b_11ec_8e35_f430b936d49frow13_col2 {\n",
       "            background-color:  #fdcebb;\n",
       "            color:  #000000;\n",
       "        }</style><table id=\"T_0bad3441_ea7b_11ec_8e35_f430b936d49f\" ><thead>    <tr>        <th class=\"blank level0\" ></th>        <th class=\"col_heading level0 col0\" >cell_type</th>        <th class=\"col_heading level0 col1\" >sex</th>        <th class=\"col_heading level0 col2\" >Malignant</th>    </tr></thead><tbody>\n",
       "                <tr>\n",
       "                        <th id=\"T_0bad3441_ea7b_11ec_8e35_f430b936d49flevel0_row0\" class=\"row_heading level0 row0\" >0</th>\n",
       "                        <td id=\"T_0bad3441_ea7b_11ec_8e35_f430b936d49frow0_col0\" class=\"data row0 col0\" >Actinic_keratoses</td>\n",
       "                        <td id=\"T_0bad3441_ea7b_11ec_8e35_f430b936d49frow0_col1\" class=\"data row0 col1\" >female</td>\n",
       "                        <td id=\"T_0bad3441_ea7b_11ec_8e35_f430b936d49frow0_col2\" class=\"data row0 col2\" >106</td>\n",
       "            </tr>\n",
       "            <tr>\n",
       "                        <th id=\"T_0bad3441_ea7b_11ec_8e35_f430b936d49flevel0_row1\" class=\"row_heading level0 row1\" >1</th>\n",
       "                        <td id=\"T_0bad3441_ea7b_11ec_8e35_f430b936d49frow1_col0\" class=\"data row1 col0\" >Actinic_keratoses</td>\n",
       "                        <td id=\"T_0bad3441_ea7b_11ec_8e35_f430b936d49frow1_col1\" class=\"data row1 col1\" >male</td>\n",
       "                        <td id=\"T_0bad3441_ea7b_11ec_8e35_f430b936d49frow1_col2\" class=\"data row1 col2\" >221</td>\n",
       "            </tr>\n",
       "            <tr>\n",
       "                        <th id=\"T_0bad3441_ea7b_11ec_8e35_f430b936d49flevel0_row2\" class=\"row_heading level0 row2\" >2</th>\n",
       "                        <td id=\"T_0bad3441_ea7b_11ec_8e35_f430b936d49frow2_col0\" class=\"data row2 col0\" >Basal_cell_carcinoma</td>\n",
       "                        <td id=\"T_0bad3441_ea7b_11ec_8e35_f430b936d49frow2_col1\" class=\"data row2 col1\" >female</td>\n",
       "                        <td id=\"T_0bad3441_ea7b_11ec_8e35_f430b936d49frow2_col2\" class=\"data row2 col2\" >197</td>\n",
       "            </tr>\n",
       "            <tr>\n",
       "                        <th id=\"T_0bad3441_ea7b_11ec_8e35_f430b936d49flevel0_row3\" class=\"row_heading level0 row3\" >3</th>\n",
       "                        <td id=\"T_0bad3441_ea7b_11ec_8e35_f430b936d49frow3_col0\" class=\"data row3 col0\" >Basal_cell_carcinoma</td>\n",
       "                        <td id=\"T_0bad3441_ea7b_11ec_8e35_f430b936d49frow3_col1\" class=\"data row3 col1\" >male</td>\n",
       "                        <td id=\"T_0bad3441_ea7b_11ec_8e35_f430b936d49frow3_col2\" class=\"data row3 col2\" >317</td>\n",
       "            </tr>\n",
       "            <tr>\n",
       "                        <th id=\"T_0bad3441_ea7b_11ec_8e35_f430b936d49flevel0_row4\" class=\"row_heading level0 row4\" >4</th>\n",
       "                        <td id=\"T_0bad3441_ea7b_11ec_8e35_f430b936d49frow4_col0\" class=\"data row4 col0\" >Benign_keratosis-like_lesions</td>\n",
       "                        <td id=\"T_0bad3441_ea7b_11ec_8e35_f430b936d49frow4_col1\" class=\"data row4 col1\" >female</td>\n",
       "                        <td id=\"T_0bad3441_ea7b_11ec_8e35_f430b936d49frow4_col2\" class=\"data row4 col2\" >463</td>\n",
       "            </tr>\n",
       "            <tr>\n",
       "                        <th id=\"T_0bad3441_ea7b_11ec_8e35_f430b936d49flevel0_row5\" class=\"row_heading level0 row5\" >5</th>\n",
       "                        <td id=\"T_0bad3441_ea7b_11ec_8e35_f430b936d49frow5_col0\" class=\"data row5 col0\" >Benign_keratosis-like_lesions</td>\n",
       "                        <td id=\"T_0bad3441_ea7b_11ec_8e35_f430b936d49frow5_col1\" class=\"data row5 col1\" >male</td>\n",
       "                        <td id=\"T_0bad3441_ea7b_11ec_8e35_f430b936d49frow5_col2\" class=\"data row5 col2\" >636</td>\n",
       "            </tr>\n",
       "            <tr>\n",
       "                        <th id=\"T_0bad3441_ea7b_11ec_8e35_f430b936d49flevel0_row6\" class=\"row_heading level0 row6\" >6</th>\n",
       "                        <td id=\"T_0bad3441_ea7b_11ec_8e35_f430b936d49frow6_col0\" class=\"data row6 col0\" >Dermatofibroma</td>\n",
       "                        <td id=\"T_0bad3441_ea7b_11ec_8e35_f430b936d49frow6_col1\" class=\"data row6 col1\" >female</td>\n",
       "                        <td id=\"T_0bad3441_ea7b_11ec_8e35_f430b936d49frow6_col2\" class=\"data row6 col2\" >52</td>\n",
       "            </tr>\n",
       "            <tr>\n",
       "                        <th id=\"T_0bad3441_ea7b_11ec_8e35_f430b936d49flevel0_row7\" class=\"row_heading level0 row7\" >7</th>\n",
       "                        <td id=\"T_0bad3441_ea7b_11ec_8e35_f430b936d49frow7_col0\" class=\"data row7 col0\" >Dermatofibroma</td>\n",
       "                        <td id=\"T_0bad3441_ea7b_11ec_8e35_f430b936d49frow7_col1\" class=\"data row7 col1\" >male</td>\n",
       "                        <td id=\"T_0bad3441_ea7b_11ec_8e35_f430b936d49frow7_col2\" class=\"data row7 col2\" >63</td>\n",
       "            </tr>\n",
       "            <tr>\n",
       "                        <th id=\"T_0bad3441_ea7b_11ec_8e35_f430b936d49flevel0_row8\" class=\"row_heading level0 row8\" >8</th>\n",
       "                        <td id=\"T_0bad3441_ea7b_11ec_8e35_f430b936d49frow8_col0\" class=\"data row8 col0\" >Melanocytic_nevi</td>\n",
       "                        <td id=\"T_0bad3441_ea7b_11ec_8e35_f430b936d49frow8_col1\" class=\"data row8 col1\" >female</td>\n",
       "                        <td id=\"T_0bad3441_ea7b_11ec_8e35_f430b936d49frow8_col2\" class=\"data row8 col2\" >3237</td>\n",
       "            </tr>\n",
       "            <tr>\n",
       "                        <th id=\"T_0bad3441_ea7b_11ec_8e35_f430b936d49flevel0_row9\" class=\"row_heading level0 row9\" >9</th>\n",
       "                        <td id=\"T_0bad3441_ea7b_11ec_8e35_f430b936d49frow9_col0\" class=\"data row9 col0\" >Melanocytic_nevi</td>\n",
       "                        <td id=\"T_0bad3441_ea7b_11ec_8e35_f430b936d49frow9_col1\" class=\"data row9 col1\" >male</td>\n",
       "                        <td id=\"T_0bad3441_ea7b_11ec_8e35_f430b936d49frow9_col2\" class=\"data row9 col2\" >3468</td>\n",
       "            </tr>\n",
       "            <tr>\n",
       "                        <th id=\"T_0bad3441_ea7b_11ec_8e35_f430b936d49flevel0_row10\" class=\"row_heading level0 row10\" >10</th>\n",
       "                        <td id=\"T_0bad3441_ea7b_11ec_8e35_f430b936d49frow10_col0\" class=\"data row10 col0\" >Vascular_lesions</td>\n",
       "                        <td id=\"T_0bad3441_ea7b_11ec_8e35_f430b936d49frow10_col1\" class=\"data row10 col1\" >female</td>\n",
       "                        <td id=\"T_0bad3441_ea7b_11ec_8e35_f430b936d49frow10_col2\" class=\"data row10 col2\" >73</td>\n",
       "            </tr>\n",
       "            <tr>\n",
       "                        <th id=\"T_0bad3441_ea7b_11ec_8e35_f430b936d49flevel0_row11\" class=\"row_heading level0 row11\" >11</th>\n",
       "                        <td id=\"T_0bad3441_ea7b_11ec_8e35_f430b936d49frow11_col0\" class=\"data row11 col0\" >Vascular_lesions</td>\n",
       "                        <td id=\"T_0bad3441_ea7b_11ec_8e35_f430b936d49frow11_col1\" class=\"data row11 col1\" >male</td>\n",
       "                        <td id=\"T_0bad3441_ea7b_11ec_8e35_f430b936d49frow11_col2\" class=\"data row11 col2\" >69</td>\n",
       "            </tr>\n",
       "            <tr>\n",
       "                        <th id=\"T_0bad3441_ea7b_11ec_8e35_f430b936d49flevel0_row12\" class=\"row_heading level0 row12\" >12</th>\n",
       "                        <td id=\"T_0bad3441_ea7b_11ec_8e35_f430b936d49frow12_col0\" class=\"data row12 col0\" >melanoma</td>\n",
       "                        <td id=\"T_0bad3441_ea7b_11ec_8e35_f430b936d49frow12_col1\" class=\"data row12 col1\" >female</td>\n",
       "                        <td id=\"T_0bad3441_ea7b_11ec_8e35_f430b936d49frow12_col2\" class=\"data row12 col2\" >424</td>\n",
       "            </tr>\n",
       "            <tr>\n",
       "                        <th id=\"T_0bad3441_ea7b_11ec_8e35_f430b936d49flevel0_row13\" class=\"row_heading level0 row13\" >13</th>\n",
       "                        <td id=\"T_0bad3441_ea7b_11ec_8e35_f430b936d49frow13_col0\" class=\"data row13 col0\" >melanoma</td>\n",
       "                        <td id=\"T_0bad3441_ea7b_11ec_8e35_f430b936d49frow13_col1\" class=\"data row13 col1\" >male</td>\n",
       "                        <td id=\"T_0bad3441_ea7b_11ec_8e35_f430b936d49frow13_col2\" class=\"data row13 col2\" >689</td>\n",
       "            </tr>\n",
       "    </tbody></table>"
      ],
      "text/plain": [
       "<pandas.io.formats.style.Styler at 0x1d9530305b0>"
      ]
     },
     "execution_count": 28,
     "metadata": {},
     "output_type": "execute_result"
    }
   ],
   "source": [
    "z=skin_df.groupby(['cell_type','sex'])['Malignant'].count().to_frame().reset_index()\n",
    "z.style.background_gradient(cmap='Reds')  "
   ]
  },
  {
   "cell_type": "markdown",
   "metadata": {},
   "source": [
    "##### Observations\n",
    "there is a 60/40 split in the Malignant population for males and females due to the fact that under 50, melanoma occurs more frequently in women, while above 50, occurs more often in men and increasingly so moving into 80.\n",
    "https://www.cancer.net/cancer-types/melanoma/statistics\n",
    "\n"
   ]
  },
  {
   "cell_type": "markdown",
   "metadata": {},
   "source": [
    "#### Age Distribution"
   ]
  },
  {
   "cell_type": "code",
   "execution_count": 29,
   "metadata": {},
   "outputs": [
    {
     "data": {
      "image/png": "[encoded data removed]",
      "text/plain": [
       "<Figure size 1080x504 with 1 Axes>"
      ]
     },
     "metadata": {
      "needs_background": "light"
     },
     "output_type": "display_data"
    }
   ],
   "source": [
    "plt.figure(figsize = (15,7))\n",
    "sns.countplot(x='age', data=skin_df)\n",
    "plt.show()"
   ]
  },
  {
   "cell_type": "code",
   "execution_count": 30,
   "metadata": {},
   "outputs": [
    {
     "data": {
      "text/plain": [
       "Text(0, 0.5, 'Count')"
      ]
     },
     "execution_count": 30,
     "metadata": {},
     "output_type": "execute_result"
    },
    {
     "data": {
      "image/png": "[encoded data removed]",
      "text/plain": [
       "<Figure size 1296x504 with 2 Axes>"
      ]
     },
     "metadata": {
      "needs_background": "light"
     },
     "output_type": "display_data"
    }
   ],
   "source": [
    "# display distribution of age for non-melanoma vs. melanoma patients\n",
    "f, (ax1, ax2) = plt.subplots(1, 2, figsize=(18, 7))\n",
    "sns.histplot(x='age', data=skin_df[skin_df.Malignant == 0], kde=True, color='dodgerblue', ax=ax1)\n",
    "sns.histplot(x='age', data=skin_df[skin_df.Malignant == 1], kde=True, color='tomato', ax=ax2)\n",
    "ax1.set_title(\"Age Distribution of Non-Malignant Patients\", fontsize=16)\n",
    "ax2.set_title(\"Age Distribution of Malignant Patients\", fontsize=16)\n",
    "ax1.set_xlabel('Age', size=16)\n",
    "ax1.set_ylabel('Count', size=16)\n",
    "ax2.set_xlabel('Age', size=16)\n",
    "ax2.set_ylabel('Count', size=16)"
   ]
  },
  {
   "cell_type": "markdown",
   "metadata": {},
   "source": [
    "##### Observations\n",
    "It seems that there are larger instances of patients having age from 30 to 60\n"
   ]
  },
  {
   "cell_type": "markdown",
   "metadata": {},
   "source": [
    "### Site Distribution"
   ]
  },
  {
   "cell_type": "code",
   "execution_count": 31,
   "metadata": {},
   "outputs": [
    {
     "data": {
      "image/png": "[encoded data removed]",
      "text/plain": [
       "<Figure size 1440x504 with 1 Axes>"
      ]
     },
     "metadata": {
      "needs_background": "light"
     },
     "output_type": "display_data"
    }
   ],
   "source": [
    "def barplot(df, xlabel, ylabel, title,p):\n",
    "    plt.figure(figsize = (20,7))\n",
    "    ax = sns.countplot(x = xlabel, data = df, palette =p )\n",
    "    plt.title(title, fontsize = 16)\n",
    "    plt.xlabel(xlabel, fontsize = 16)\n",
    "    plt.ylabel(ylabel, fontsize = 16)\n",
    "    total = len(df)\n",
    "    for p in ax.patches:\n",
    "        percentage = '{:.1f}%'.format(100 * p.get_height()/total)\n",
    "        x = p.get_x() + p.get_width() / 3\n",
    "        y = p.get_y() + p.get_height() \n",
    "        ax.annotate(percentage, (x, y), size = 16)\n",
    "    plt.show()\n",
    "    \n",
    "barplot(skin_df, 'localization', 'count', 'Distribution of Site Variable',\"Set2\")"
   ]
  },
  {
   "cell_type": "markdown",
   "metadata": {},
   "source": [
    "##### Observations\n",
    "It seems back , lower extremity,trunk and upper extremity are heavily compromised regions of skin cancer\n",
    "\n"
   ]
  },
  {
   "cell_type": "markdown",
   "metadata": {},
   "source": [
    "### Dx_type Distribution"
   ]
  },
  {
   "cell_type": "markdown",
   "metadata": {},
   "source": [
    "Plotting of Technical Validation field (ground truth) which is dx_type to see the distribution of its 4 categories which are listed below :\n",
    "1. Histopathology(Histo): Histopathologic diagnoses of excised lesions have been performed by specialized dermatopathologists.\n",
    "2. Confocal: Reflectance confocal microscopy is an in-vivo imaging technique with a resolution at near-cellular level , and some facial benign with a grey-world assumption of all training-set images in Lab-color space before and after manual histogram changes.\n",
    "3. Follow-up: If nevi monitored by digital dermatoscopy did not show any changes during 3 follow-up visits or 1.5 years biologists accepted this as evidence of biologic benignity. Only nevi, but no other benign diagnoses were labeled with this type of ground-truth because dermatologists usually do not monitor dermatofibromas, seborrheic keratoses, or vascular lesions.\n",
    "4. Consensus: For typical benign cases without histopathology or followup biologists provide an expert-consensus rating of authors PT and HK. They applied the consensus label only if both authors independently gave the same unequivocal benign diagnosis. Lesions with this type of groundtruth were usually photographed for educational reasons and did not need further follow-up or biopsy for confirmation."
   ]
  },
  {
   "cell_type": "code",
   "execution_count": 32,
   "metadata": {},
   "outputs": [
    {
     "data": {
      "image/png": "[encoded data removed]",
      "text/plain": [
       "<Figure size 720x504 with 1 Axes>"
      ]
     },
     "metadata": {
      "needs_background": "light"
     },
     "output_type": "display_data"
    }
   ],
   "source": [
    "\n",
    "def barplot(df, xlabel, ylabel, title,p):\n",
    "    plt.figure(figsize = (10,7))\n",
    "    ax = sns.countplot(x = xlabel, data = df, palette =p )\n",
    "    plt.title(title, fontsize = 16)\n",
    "    plt.xlabel(xlabel, fontsize = 16)\n",
    "    plt.ylabel(ylabel, fontsize = 16)\n",
    "    total = len(df)\n",
    "    for p in ax.patches:\n",
    "        percentage = '{:.1f}%'.format(100 * p.get_height()/total)\n",
    "        x = p.get_x() + p.get_width() / 3\n",
    "        y = p.get_y() + p.get_height() \n",
    "        ax.annotate(percentage, (x, y), size = 16)\n",
    "    plt.show()\n",
    "    \n",
    "barplot(skin_df, 'dx_type', 'count', 'Distribution of Technical Validation field (ground truth) Variable',\"Set1_r\")"
   ]
  },
  {
   "cell_type": "code",
   "execution_count": 33,
   "metadata": {},
   "outputs": [
    {
     "data": {
      "text/html": [
       "<div>\n",
       "<style scoped>\n",
       "    .dataframe tbody tr th:only-of-type {\n",
       "        vertical-align: middle;\n",
       "    }\n",
       "\n",
       "    .dataframe tbody tr th {\n",
       "        vertical-align: top;\n",
       "    }\n",
       "\n",
       "    .dataframe thead th {\n",
       "        text-align: right;\n",
       "    }\n",
       "</style>\n",
       "<table border=\"1\" class=\"dataframe\">\n",
       "  <thead>\n",
       "    <tr style=\"text-align: right;\">\n",
       "      <th></th>\n",
       "      <th>lesion_id</th>\n",
       "      <th>image_id</th>\n",
       "      <th>dx</th>\n",
       "      <th>dx_type</th>\n",
       "      <th>age</th>\n",
       "      <th>sex</th>\n",
       "      <th>localization</th>\n",
       "      <th>path</th>\n",
       "      <th>cell_type</th>\n",
       "      <th>Malignant</th>\n",
       "      <th>cell_type_idx</th>\n",
       "    </tr>\n",
       "  </thead>\n",
       "  <tbody>\n",
       "    <tr>\n",
       "      <th>0</th>\n",
       "      <td>HAM_0000118</td>\n",
       "      <td>ISIC_0027419</td>\n",
       "      <td>bkl</td>\n",
       "      <td>histo</td>\n",
       "      <td>80.0</td>\n",
       "      <td>male</td>\n",
       "      <td>scalp</td>\n",
       "      <td>D:\\dataset\\orig\\ISIC_0027419.jpg</td>\n",
       "      <td>Benign_keratosis-like_lesions</td>\n",
       "      <td>0</td>\n",
       "      <td>2</td>\n",
       "    </tr>\n",
       "    <tr>\n",
       "      <th>1</th>\n",
       "      <td>HAM_0000118</td>\n",
       "      <td>ISIC_0025030</td>\n",
       "      <td>bkl</td>\n",
       "      <td>histo</td>\n",
       "      <td>80.0</td>\n",
       "      <td>male</td>\n",
       "      <td>scalp</td>\n",
       "      <td>D:\\dataset\\orig\\ISIC_0025030.jpg</td>\n",
       "      <td>Benign_keratosis-like_lesions</td>\n",
       "      <td>0</td>\n",
       "      <td>2</td>\n",
       "    </tr>\n",
       "    <tr>\n",
       "      <th>2</th>\n",
       "      <td>HAM_0002730</td>\n",
       "      <td>ISIC_0026769</td>\n",
       "      <td>bkl</td>\n",
       "      <td>histo</td>\n",
       "      <td>80.0</td>\n",
       "      <td>male</td>\n",
       "      <td>scalp</td>\n",
       "      <td>D:\\dataset\\orig\\ISIC_0026769.jpg</td>\n",
       "      <td>Benign_keratosis-like_lesions</td>\n",
       "      <td>0</td>\n",
       "      <td>2</td>\n",
       "    </tr>\n",
       "    <tr>\n",
       "      <th>3</th>\n",
       "      <td>HAM_0002730</td>\n",
       "      <td>ISIC_0025661</td>\n",
       "      <td>bkl</td>\n",
       "      <td>histo</td>\n",
       "      <td>80.0</td>\n",
       "      <td>male</td>\n",
       "      <td>scalp</td>\n",
       "      <td>D:\\dataset\\orig\\ISIC_0025661.jpg</td>\n",
       "      <td>Benign_keratosis-like_lesions</td>\n",
       "      <td>0</td>\n",
       "      <td>2</td>\n",
       "    </tr>\n",
       "    <tr>\n",
       "      <th>4</th>\n",
       "      <td>HAM_0001466</td>\n",
       "      <td>ISIC_0031633</td>\n",
       "      <td>bkl</td>\n",
       "      <td>histo</td>\n",
       "      <td>75.0</td>\n",
       "      <td>male</td>\n",
       "      <td>ear</td>\n",
       "      <td>D:\\dataset\\orig\\ISIC_0031633.jpg</td>\n",
       "      <td>Benign_keratosis-like_lesions</td>\n",
       "      <td>0</td>\n",
       "      <td>2</td>\n",
       "    </tr>\n",
       "    <tr>\n",
       "      <th>...</th>\n",
       "      <td>...</td>\n",
       "      <td>...</td>\n",
       "      <td>...</td>\n",
       "      <td>...</td>\n",
       "      <td>...</td>\n",
       "      <td>...</td>\n",
       "      <td>...</td>\n",
       "      <td>...</td>\n",
       "      <td>...</td>\n",
       "      <td>...</td>\n",
       "      <td>...</td>\n",
       "    </tr>\n",
       "    <tr>\n",
       "      <th>10010</th>\n",
       "      <td>HAM_0002867</td>\n",
       "      <td>ISIC_0033084</td>\n",
       "      <td>akiec</td>\n",
       "      <td>histo</td>\n",
       "      <td>40.0</td>\n",
       "      <td>male</td>\n",
       "      <td>abdomen</td>\n",
       "      <td>D:\\dataset\\orig\\ISIC_0033084.jpg</td>\n",
       "      <td>Actinic_keratoses</td>\n",
       "      <td>1</td>\n",
       "      <td>0</td>\n",
       "    </tr>\n",
       "    <tr>\n",
       "      <th>10011</th>\n",
       "      <td>HAM_0002867</td>\n",
       "      <td>ISIC_0033550</td>\n",
       "      <td>akiec</td>\n",
       "      <td>histo</td>\n",
       "      <td>40.0</td>\n",
       "      <td>male</td>\n",
       "      <td>abdomen</td>\n",
       "      <td>D:\\dataset\\orig\\ISIC_0033550.jpg</td>\n",
       "      <td>Actinic_keratoses</td>\n",
       "      <td>1</td>\n",
       "      <td>0</td>\n",
       "    </tr>\n",
       "    <tr>\n",
       "      <th>10012</th>\n",
       "      <td>HAM_0002867</td>\n",
       "      <td>ISIC_0033536</td>\n",
       "      <td>akiec</td>\n",
       "      <td>histo</td>\n",
       "      <td>40.0</td>\n",
       "      <td>male</td>\n",
       "      <td>abdomen</td>\n",
       "      <td>D:\\dataset\\orig\\ISIC_0033536.jpg</td>\n",
       "      <td>Actinic_keratoses</td>\n",
       "      <td>1</td>\n",
       "      <td>0</td>\n",
       "    </tr>\n",
       "    <tr>\n",
       "      <th>10013</th>\n",
       "      <td>HAM_0000239</td>\n",
       "      <td>ISIC_0032854</td>\n",
       "      <td>akiec</td>\n",
       "      <td>histo</td>\n",
       "      <td>80.0</td>\n",
       "      <td>male</td>\n",
       "      <td>face</td>\n",
       "      <td>D:\\dataset\\orig\\ISIC_0032854.jpg</td>\n",
       "      <td>Actinic_keratoses</td>\n",
       "      <td>1</td>\n",
       "      <td>0</td>\n",
       "    </tr>\n",
       "    <tr>\n",
       "      <th>10014</th>\n",
       "      <td>HAM_0003521</td>\n",
       "      <td>ISIC_0032258</td>\n",
       "      <td>mel</td>\n",
       "      <td>histo</td>\n",
       "      <td>70.0</td>\n",
       "      <td>female</td>\n",
       "      <td>back</td>\n",
       "      <td>D:\\dataset\\orig\\ISIC_0032258.jpg</td>\n",
       "      <td>melanoma</td>\n",
       "      <td>1</td>\n",
       "      <td>6</td>\n",
       "    </tr>\n",
       "  </tbody>\n",
       "</table>\n",
       "<p>10015 rows × 11 columns</p>\n",
       "</div>"
      ],
      "text/plain": [
       "         lesion_id      image_id     dx dx_type   age     sex localization  \\\n",
       "0      HAM_0000118  ISIC_0027419    bkl   histo  80.0    male        scalp   \n",
       "1      HAM_0000118  ISIC_0025030    bkl   histo  80.0    male        scalp   \n",
       "2      HAM_0002730  ISIC_0026769    bkl   histo  80.0    male        scalp   \n",
       "3      HAM_0002730  ISIC_0025661    bkl   histo  80.0    male        scalp   \n",
       "4      HAM_0001466  ISIC_0031633    bkl   histo  75.0    male          ear   \n",
       "...            ...           ...    ...     ...   ...     ...          ...   \n",
       "10010  HAM_0002867  ISIC_0033084  akiec   histo  40.0    male      abdomen   \n",
       "10011  HAM_0002867  ISIC_0033550  akiec   histo  40.0    male      abdomen   \n",
       "10012  HAM_0002867  ISIC_0033536  akiec   histo  40.0    male      abdomen   \n",
       "10013  HAM_0000239  ISIC_0032854  akiec   histo  80.0    male         face   \n",
       "10014  HAM_0003521  ISIC_0032258    mel   histo  70.0  female         back   \n",
       "\n",
       "                                   path                      cell_type  \\\n",
       "0      D:\\dataset\\orig\\ISIC_0027419.jpg  Benign_keratosis-like_lesions   \n",
       "1      D:\\dataset\\orig\\ISIC_0025030.jpg  Benign_keratosis-like_lesions   \n",
       "2      D:\\dataset\\orig\\ISIC_0026769.jpg  Benign_keratosis-like_lesions   \n",
       "3      D:\\dataset\\orig\\ISIC_0025661.jpg  Benign_keratosis-like_lesions   \n",
       "4      D:\\dataset\\orig\\ISIC_0031633.jpg  Benign_keratosis-like_lesions   \n",
       "...                                 ...                            ...   \n",
       "10010  D:\\dataset\\orig\\ISIC_0033084.jpg              Actinic_keratoses   \n",
       "10011  D:\\dataset\\orig\\ISIC_0033550.jpg              Actinic_keratoses   \n",
       "10012  D:\\dataset\\orig\\ISIC_0033536.jpg              Actinic_keratoses   \n",
       "10013  D:\\dataset\\orig\\ISIC_0032854.jpg              Actinic_keratoses   \n",
       "10014  D:\\dataset\\orig\\ISIC_0032258.jpg                       melanoma   \n",
       "\n",
       "       Malignant  cell_type_idx  \n",
       "0              0              2  \n",
       "1              0              2  \n",
       "2              0              2  \n",
       "3              0              2  \n",
       "4              0              2  \n",
       "...          ...            ...  \n",
       "10010          1              0  \n",
       "10011          1              0  \n",
       "10012          1              0  \n",
       "10013          1              0  \n",
       "10014          1              6  \n",
       "\n",
       "[10015 rows x 11 columns]"
      ]
     },
     "execution_count": 33,
     "metadata": {},
     "output_type": "execute_result"
    }
   ],
   "source": [
    "skin_df"
   ]
  },
  {
   "cell_type": "code",
   "execution_count": 34,
   "metadata": {},
   "outputs": [],
   "source": [
    "skin_df.to_csv('skin_df.csv')"
   ]
  }
 ],
 "metadata": {
  "interpreter": {
   "hash": "53d50ed1839d2292cfd39f0644d59e889da85062f836d8db82f8d3a293c0c3a5"
  },
  "kernelspec": {
   "display_name": "Python 3.8.8 ('base')",
   "language": "python",
   "name": "python3"
  },
  "language_info": {
   "codemirror_mode": {
    "name": "ipython",
    "version": 3
   },
   "file_extension": ".py",
   "mimetype": "text/x-python",
   "name": "python",
   "nbconvert_exporter": "python",
   "pygments_lexer": "ipython3",
   "version": "3.8.8"
  },
  "orig_nbformat": 4
 },
 "nbformat": 4,
 "nbformat_minor": 2
}
