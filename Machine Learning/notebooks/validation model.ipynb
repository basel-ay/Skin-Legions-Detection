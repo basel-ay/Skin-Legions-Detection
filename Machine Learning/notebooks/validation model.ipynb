{
 "cells": [
  {
   "cell_type": "code",
   "execution_count": 70,
   "metadata": {},
   "outputs": [],
   "source": [
    "import tensorflow as tf\n",
    "from tensorflow import keras\n",
    "import os"
   ]
  },
  {
   "cell_type": "code",
   "execution_count": 71,
   "metadata": {},
   "outputs": [],
   "source": [
    "base_dir = r'D:\\Achelois\\notebooks\\check skin or not\\dataset'"
   ]
  },
  {
   "cell_type": "code",
   "execution_count": 72,
   "metadata": {},
   "outputs": [
    {
     "name": "stdout",
     "output_type": "stream",
     "text": [
      "Found 7597 images belonging to 2 classes.\n",
      "Found 1898 images belonging to 2 classes.\n"
     ]
    }
   ],
   "source": [
    "from keras.preprocessing.image import ImageDataGenerator\n",
    "datagen=ImageDataGenerator(\n",
    "    validation_split=0.2,\n",
    "    rescale=1./255,\n",
    "    shear_range=0.2,\n",
    "    zoom_range=0.2,\n",
    "    horizontal_flip=True)\n",
    "train_gene=datagen.flow_from_directory(\n",
    "    base_dir,\n",
    "    subset='training',\n",
    "    target_size=(224,224),\n",
    "    batch_size=32,\n",
    "    color_mode='rgb',\n",
    "    class_mode='categorical',\n",
    "    shuffle=True,\n",
    "    seed=42,)\n",
    "val_gene=datagen.flow_from_directory(\n",
    "    base_dir,\n",
    "    subset='validation',\n",
    "    target_size=(224,224),\n",
    "    batch_size=32,\n",
    "    color_mode='rgb',\n",
    "    class_mode='categorical',\n",
    "    shuffle=True,\n",
    "    seed=42,\n",
    "    )"
   ]
  },
  {
   "cell_type": "code",
   "execution_count": 73,
   "metadata": {},
   "outputs": [
    {
     "name": "stdout",
     "output_type": "stream",
     "text": [
      "{'not skin': 0, 'skin': 1}\n"
     ]
    }
   ],
   "source": [
    "print(train_gene.class_indices)\n",
    "labels2 = '\\n'.join(sorted(train_gene.class_indices.keys()))\n",
    "with open('labels-R1.txt', 'w') as f:\n",
    "    f.write(labels2)"
   ]
  },
  {
   "cell_type": "code",
   "execution_count": 74,
   "metadata": {},
   "outputs": [],
   "source": [
    "model=tf.keras.models.Sequential([\n",
    "      tf.keras.layers.Conv2D(32,(3,3),activation='relu',input_shape=(224,224,3)),\n",
    "      tf.keras.layers.MaxPool2D(2,2),\n",
    "      tf.keras.layers.Conv2D(64,(3,3),activation='relu'),\n",
    "      tf.keras.layers.MaxPool2D(2,2),\n",
    "      tf.keras.layers.Conv2D(128,(3,3),activation='relu'),\n",
    "      tf.keras.layers.MaxPool2D(2,2),\n",
    "      tf.keras.layers.Conv2D(128,(3,3),activation='relu'),\n",
    "      tf.keras.layers.MaxPool2D(2,2),\n",
    "      tf.keras.layers.Flatten(),\n",
    "      tf.keras.layers.Dropout(0.5),\n",
    "\n",
    "      tf.keras.layers.Dense(512,activation='relu'),\n",
    "      tf.keras.layers.Dense(2,activation='softmax')\n",
    "  \n",
    "])"
   ]
  },
  {
   "cell_type": "code",
   "execution_count": 75,
   "metadata": {},
   "outputs": [
    {
     "name": "stdout",
     "output_type": "stream",
     "text": [
      "Model: \"sequential_8\"\n",
      "_________________________________________________________________\n",
      " Layer (type)                Output Shape              Param #   \n",
      "=================================================================\n",
      " conv2d_32 (Conv2D)          (None, 222, 222, 32)      896       \n",
      "                                                                 \n",
      " max_pooling2d_32 (MaxPoolin  (None, 111, 111, 32)     0         \n",
      " g2D)                                                            \n",
      "                                                                 \n",
      " conv2d_33 (Conv2D)          (None, 109, 109, 64)      18496     \n",
      "                                                                 \n",
      " max_pooling2d_33 (MaxPoolin  (None, 54, 54, 64)       0         \n",
      " g2D)                                                            \n",
      "                                                                 \n",
      " conv2d_34 (Conv2D)          (None, 52, 52, 128)       73856     \n",
      "                                                                 \n",
      " max_pooling2d_34 (MaxPoolin  (None, 26, 26, 128)      0         \n",
      " g2D)                                                            \n",
      "                                                                 \n",
      " conv2d_35 (Conv2D)          (None, 24, 24, 128)       147584    \n",
      "                                                                 \n",
      " max_pooling2d_35 (MaxPoolin  (None, 12, 12, 128)      0         \n",
      " g2D)                                                            \n",
      "                                                                 \n",
      " flatten_8 (Flatten)         (None, 18432)             0         \n",
      "                                                                 \n",
      " dropout_8 (Dropout)         (None, 18432)             0         \n",
      "                                                                 \n",
      " dense_16 (Dense)            (None, 512)               9437696   \n",
      "                                                                 \n",
      " dense_17 (Dense)            (None, 2)                 1026      \n",
      "                                                                 \n",
      "=================================================================\n",
      "Total params: 9,679,554\n",
      "Trainable params: 9,679,554\n",
      "Non-trainable params: 0\n",
      "_________________________________________________________________\n"
     ]
    }
   ],
   "source": [
    "model.summary()"
   ]
  },
  {
   "cell_type": "code",
   "execution_count": 76,
   "metadata": {},
   "outputs": [],
   "source": [
    "model.compile(loss='categorical_crossentropy',\n",
    "              optimizer=tf.keras.optimizers.Adam(lr=3e-4),\n",
    "              metrics=['accuracy'])"
   ]
  },
  {
   "cell_type": "code",
   "execution_count": 77,
   "metadata": {},
   "outputs": [],
   "source": [
    "from tensorflow.keras.callbacks import EarlyStopping"
   ]
  },
  {
   "cell_type": "code",
   "execution_count": 78,
   "metadata": {},
   "outputs": [],
   "source": [
    "cb=[EarlyStopping(monitor='loss',mode='min',patience=5,restore_best_weights=True)]\n"
   ]
  },
  {
   "cell_type": "code",
   "execution_count": 81,
   "metadata": {},
   "outputs": [
    {
     "name": "stdout",
     "output_type": "stream",
     "text": [
      "Epoch 1/5\n",
      "25/25 [==============================] - 70s 3s/step - loss: 0.1390 - accuracy: 0.9575 - val_loss: 0.0652 - val_accuracy: 0.9810\n",
      "Epoch 2/5\n",
      "25/25 [==============================] - 71s 3s/step - loss: 0.1036 - accuracy: 0.9650 - val_loss: 0.0607 - val_accuracy: 0.9789\n",
      "Epoch 3/5\n",
      "25/25 [==============================] - 76s 3s/step - loss: 0.1320 - accuracy: 0.9513 - val_loss: 0.1721 - val_accuracy: 0.9457\n",
      "Epoch 4/5\n",
      "25/25 [==============================] - 71s 3s/step - loss: 0.1386 - accuracy: 0.9488 - val_loss: 0.0558 - val_accuracy: 0.9863\n",
      "Epoch 5/5\n",
      "25/25 [==============================] - 69s 3s/step - loss: 0.0882 - accuracy: 0.9725 - val_loss: 0.0533 - val_accuracy: 0.9837\n"
     ]
    }
   ],
   "source": [
    "history=model.fit(\n",
    "    train_gene,\n",
    "    steps_per_epoch=25,\n",
    "    epochs=5,\n",
    "    validation_data=val_gene,\n",
    "    verbose=1,\n",
    "    callbacks=[cb])"
   ]
  },
  {
   "cell_type": "code",
   "execution_count": 82,
   "metadata": {},
   "outputs": [],
   "source": [
    "keras_file = 'validation model.h5'\n",
    "keras.models.save_model(model, keras_file)\n"
   ]
  }
 ],
 "metadata": {
  "interpreter": {
   "hash": "ec13afa5e7c9138150a0b613365bf7231c67532f0f26d1152805fff79f583eef"
  },
  "kernelspec": {
   "display_name": "Python 3.8.8 ('base')",
   "language": "python",
   "name": "python3"
  },
  "language_info": {
   "codemirror_mode": {
    "name": "ipython",
    "version": 3
   },
   "file_extension": ".py",
   "mimetype": "text/x-python",
   "name": "python",
   "nbconvert_exporter": "python",
   "pygments_lexer": "ipython3",
   "version": "3.8.8"
  },
  "orig_nbformat": 4
 },
 "nbformat": 4,
 "nbformat_minor": 2
}
